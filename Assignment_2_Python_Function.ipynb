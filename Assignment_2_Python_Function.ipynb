{
  "nbformat": 4,
  "nbformat_minor": 0,
  "metadata": {
    "kernelspec": {
      "display_name": "Python 3",
      "language": "python",
      "name": "python3"
    },
    "language_info": {
      "codemirror_mode": {
        "name": "ipython",
        "version": 3
      },
      "file_extension": ".py",
      "mimetype": "text/x-python",
      "name": "python",
      "nbconvert_exporter": "python",
      "pygments_lexer": "ipython3",
      "version": "3.7.6"
    },
    "colab": {
      "name": "Assignment 2 - Python Function.ipynb",
      "provenance": [],
      "collapsed_sections": [],
      "include_colab_link": true
    }
  },
  "cells": [
    {
      "cell_type": "markdown",
      "metadata": {
        "id": "view-in-github",
        "colab_type": "text"
      },
      "source": [
        "<a href=\"https://colab.research.google.com/github/dhapolapankaj/MachineLearning/blob/master/Assignment_2_Python_Function.ipynb\" target=\"_parent\"><img src=\"https://colab.research.google.com/assets/colab-badge.svg\" alt=\"Open In Colab\"/></a>"
      ]
    },
    {
      "cell_type": "markdown",
      "metadata": {
        "id": "JN7RLrqbmK5p",
        "colab_type": "text"
      },
      "source": [
        "## Problem Statement"
      ]
    },
    {
      "cell_type": "markdown",
      "metadata": {
        "id": "Q9QUDwd2mK5u",
        "colab_type": "text"
      },
      "source": [
        "Q.1 Write a Python Program to implement your own myreduce() function which works exactly like\n",
        "Python's built-in function reduce()\n"
      ]
    },
    {
      "cell_type": "code",
      "metadata": {
        "id": "5CfImTE3mK5x",
        "colab_type": "code",
        "colab": {
          "base_uri": "https://localhost:8080/",
          "height": 85
        },
        "outputId": "9903b61c-2338-4c1d-9212-5aafc79af1ff"
      },
      "source": [
        "\n",
        "my_list = [ 2, 3, 4,5]\n",
        "\n",
        "def my_function(x,y):\n",
        "    #print(f\"x ==> {x} and y ==> {y} \")\n",
        "    return x**y\n",
        "\n",
        "def my_reduce(functn, lst):\n",
        "    if type(functn).__name__ != \"function\" or type(lst).__name__ != \"list\":\n",
        "        raise Exception(\"Invalid Input. First argument should be a defined function and second argument should be a list\")\n",
        "    \n",
        "    first_value = lst.pop(0)\n",
        "    \n",
        "    return_value = first_value #assign first value\n",
        "    for i in lst:\n",
        "        print(f'return_value --> {return_value} i --> {i}')\n",
        "        return_value = functn(return_value,i)\n",
        "            \n",
        "    return return_value\n",
        "\n",
        "print (my_reduce(my_function, my_list))\n",
        "\n",
        "#Below code is for Validation\n",
        "#import functools as ft\n",
        "#ft.reduce(my_function, [2, 3, 4,5])\n"
      ],
      "execution_count": 1,
      "outputs": [
        {
          "output_type": "stream",
          "text": [
            "return_value --> 2 i --> 3\n",
            "return_value --> 8 i --> 4\n",
            "return_value --> 4096 i --> 5\n",
            "1152921504606846976\n"
          ],
          "name": "stdout"
        }
      ]
    },
    {
      "cell_type": "markdown",
      "metadata": {
        "id": "Ir7N12GRmK57",
        "colab_type": "text"
      },
      "source": [
        "Q.2 Write a Python program to implement your own myfilter() function which works exactly like\n",
        "Python's built-in function filter()"
      ]
    },
    {
      "cell_type": "code",
      "metadata": {
        "id": "VooPSadVmK59",
        "colab_type": "code",
        "colab": {
          "base_uri": "https://localhost:8080/",
          "height": 34
        },
        "outputId": "30c0b82f-29b0-4525-f1c2-66a3112b1db0"
      },
      "source": [
        "\n",
        "my_list = [ 2, 3, 4,5]\n",
        "\n",
        "def my_function(x):\n",
        "    #print(f\"x ==> {x} \")\n",
        "    if x % 2 == 0 :\n",
        "        return True\n",
        "    else :\n",
        "        return False\n",
        "    \n",
        "\n",
        "\n",
        "def my_filter(functn,lst):\n",
        "    \n",
        "    if type(functn).__name__ != \"function\" or type(lst).__name__ != \"list\":\n",
        "        raise Exception(\"Invalid Input. First argument should be a defined function and second argument should be a list\")\n",
        "        \n",
        "    return_list = []\n",
        "    \n",
        "    for i in my_list:\n",
        "        if my_function(i) == True:\n",
        "            return_list.append(i)\n",
        "            \n",
        "    return return_list\n",
        "\n",
        "\n",
        "print(my_filter(my_function,my_list))\n",
        " \n",
        "#Below code is just for Validation purpose    \n",
        "#print(list(filter(my_function,[1,2,3,4,5,6])))\n",
        "        "
      ],
      "execution_count": 2,
      "outputs": [
        {
          "output_type": "stream",
          "text": [
            "[2, 4]\n"
          ],
          "name": "stdout"
        }
      ]
    },
    {
      "cell_type": "markdown",
      "metadata": {
        "id": "CvSf9LUhmK6F",
        "colab_type": "text"
      },
      "source": [
        "Q.3 Implement List comprehensions to produce the following lists.\n",
        "   Write List comprehensions to produce the following Lists\n",
        "   \n",
        "    ['A', 'C', 'A', 'D', 'G', 'I', ’L’, ‘ D’]\n",
        "   \n",
        "    ['x', 'xx', 'xxx', 'xxxx', 'y', 'yy', 'yyy', 'yyyy', 'z', 'zz', 'zzz', 'zzzz']\n",
        "\n",
        "    ['x', 'y', 'z', 'xx', 'yy', 'zz', 'xx', 'yy', 'zz', 'xxxx', 'yyyy', 'zzzz']\n",
        "    \n",
        "    [[2], [3], [4], [3], [4], [5], [4], [5], [6]]\n",
        "\n",
        "    [[2, 3, 4, 5], [3, 4, 5, 6], [4, 5, 6, 7], [5, 6, 7, 8]]\n",
        "\n",
        "    [(1, 1), (2, 1), (3, 1), (1, 2), (2, 2), (3, 2), (1, 3), (2, 3), (3, 3)]"
      ]
    },
    {
      "cell_type": "code",
      "metadata": {
        "id": "GVFcNYSwmK6H",
        "colab_type": "code",
        "colab": {
          "base_uri": "https://localhost:8080/",
          "height": 221
        },
        "outputId": "62fe180c-635e-4bbf-f941-22ae2d95d5b6"
      },
      "source": [
        "print([x for x in 'ACADGILD'], end='\\n\\n' )\n",
        "\n",
        "print([i * j for i in ['x', 'y', 'z'] for j in range(1,5)], end='\\n\\n' )\n",
        "\n",
        "print([i * j for i in range(1,5) for j in ['x', 'y', 'z'] ], end='\\n\\n' )\n",
        "\n",
        "print([ [i] for i in range(2,5) ] +[ [j] for j in range(3,6) ] + [ [k] for k in range(4,7) ] , end='\\n\\n' )\n",
        "\n",
        "\n",
        "print([[ i for i in range(2,6) ] , [ j for j in range(3,7) ] , [ k for k in range(5,9) ] ], end='\\n\\n' )\n",
        "\n",
        "print([ (j,i) for i in range(1,4) for j in range(1,4)], end='\\n\\n' )"
      ],
      "execution_count": 3,
      "outputs": [
        {
          "output_type": "stream",
          "text": [
            "['A', 'C', 'A', 'D', 'G', 'I', 'L', 'D']\n",
            "\n",
            "['x', 'xx', 'xxx', 'xxxx', 'y', 'yy', 'yyy', 'yyyy', 'z', 'zz', 'zzz', 'zzzz']\n",
            "\n",
            "['x', 'y', 'z', 'xx', 'yy', 'zz', 'xxx', 'yyy', 'zzz', 'xxxx', 'yyyy', 'zzzz']\n",
            "\n",
            "[[2], [3], [4], [3], [4], [5], [4], [5], [6]]\n",
            "\n",
            "[[2, 3, 4, 5], [3, 4, 5, 6], [5, 6, 7, 8]]\n",
            "\n",
            "[(1, 1), (2, 1), (3, 1), (1, 2), (2, 2), (3, 2), (1, 3), (2, 3), (3, 3)]\n",
            "\n"
          ],
          "name": "stdout"
        }
      ]
    },
    {
      "cell_type": "markdown",
      "metadata": {
        "id": "0VEys-2omK6N",
        "colab_type": "text"
      },
      "source": [
        "Q.4 Implement a function longestWord() that takes a list of words and returns the longest one."
      ]
    },
    {
      "cell_type": "code",
      "metadata": {
        "id": "vlnyLSyXmK6P",
        "colab_type": "code",
        "colab": {
          "base_uri": "https://localhost:8080/",
          "height": 255
        },
        "outputId": "1246049a-7068-423f-fb7a-e953ac4ecd2e"
      },
      "source": [
        "import functools as ft\n",
        "def longestWord(lst):\n",
        "    if type(lst).__name__ != \"list\":\n",
        "        print(\"Invalid Input, try list like ['Hello','how','are','you','my','friend'] \")\n",
        "        raise Exception(\"Invalid Input. First argument should be a defined function and second argument should be a list\")\n",
        "\n",
        "    lst_coupled_len = [(i,len(i)) for i in lst]\n",
        "    lst_coupled_len.sort(key=lambda each_words_tuple: each_words_tuple[1])\n",
        "    return lst_coupled_len[-1][0]\n",
        "\n",
        "\n",
        "def getInputs():\n",
        "    print(\"Enter number of words \")\n",
        "    \n",
        "    while True:\n",
        "        str_nbr = input()\n",
        "        if str_nbr.isdigit() :\n",
        "            break\n",
        "        print(\"Invalid Entry, Enter number of words \")\n",
        "    \n",
        "    \n",
        "    \n",
        "    str_input_words =\"\"\n",
        "    for i in range(int(str_nbr)):\n",
        "        print(\"Enter your word \" + str(i+1))\n",
        "        str_input_words = str_input_words +\" \" + input()\n",
        "    \n",
        "    return str_input_words\n",
        "    \n",
        "    \n",
        "input_lst = getInputs().split()\n",
        "\n",
        "print(f\"The list of words entered are - {input_lst}\")\n",
        "\n",
        "print(\"The longest word among Inputs is - \" + longestWord(input_lst) )\n"
      ],
      "execution_count": 6,
      "outputs": [
        {
          "output_type": "stream",
          "text": [
            "Enter number of words \n",
            "5\n",
            "Enter your word 1\n",
            "Hi\n",
            "Enter your word 2\n",
            "my\n",
            "Enter your word 3\n",
            "name\n",
            "Enter your word 4\n",
            "is\n",
            "Enter your word 5\n",
            "Hridhayaank\n",
            "The list of words entered are - ['Hi', 'my', 'name', 'is', 'Hridhayaank']\n",
            "The longest word among Inputs is - Hridhayaank\n"
          ],
          "name": "stdout"
        }
      ]
    },
    {
      "cell_type": "markdown",
      "metadata": {
        "id": "8N2GtLEImK6W",
        "colab_type": "text"
      },
      "source": [
        "Q.5 Write a Python Program(with class concepts) to find the area of the triangle using the below\n",
        "formula.\n",
        "\n",
        "area = (s*(s-a)*(s-b)*(s-c)) ** 0.5\n",
        "\n",
        "Function to take the length of the sides of triangle from user should be defined in the parent\n",
        "class and function to calculate the area should be defined in subclass."
      ]
    },
    {
      "cell_type": "code",
      "metadata": {
        "id": "cKQ-TWgAmK6Y",
        "colab_type": "code",
        "colab": {
          "base_uri": "https://localhost:8080/",
          "height": 238
        },
        "outputId": "b54ec5df-62b1-45f7-dc4b-7e2cf3810b37"
      },
      "source": [
        "class shape:\n",
        "    nbr_of_side = 0\n",
        "    side_values = {}\n",
        "    def __init__(self, nbr_of_side):\n",
        "        self.nbr_of_side = nbr_of_side\n",
        "        \n",
        "    def prompt_length_of_sides_as_input(self):\n",
        "        for i in range(int(self.nbr_of_side)):\n",
        "            print(\"Enter numeric value for side\" + str(i) + \" - \")\n",
        "            while True:\n",
        "                prompt_length = input()\n",
        "                if prompt_length.replace('.',\"\",1).isdigit():\n",
        "                    self.side_values[\"side\"+ str(i)] = prompt_length\n",
        "                    break\n",
        "                print(\"Invalid input, Enter numeric value for side\" + str(i) + \" - \")\n",
        "                \n",
        "        return self.side_values\n",
        "                \n",
        "            \n",
        "            \n",
        "class triangle(shape):\n",
        "    s = 0\n",
        "    a,b,c = 0,0,0\n",
        "    area_of_triangle = 0\n",
        "    sides_info = \"\"\n",
        "    def __init__(self,nbr_of_side):\n",
        "        super().__init__(nbr_of_side)\n",
        "        self.sides_info = super().prompt_length_of_sides_as_input()\n",
        "        \n",
        "        self.a = float(self.sides_info['side0'])\n",
        "        self.b = float(self.sides_info['side1'])\n",
        "        self.c = float(self.sides_info['side2'])\n",
        "        print(f\"Values initialised for triangle -- > \\ns={self.s}, \\na={self.a}, \\nb={self.b}, \\nc={self.c}\")\n",
        "    \n",
        "    def print_area_of_triangle(self):\n",
        "        self.s = (self.a + self.b + self.c)  / 2\n",
        "        print(f\"Value of s = {self.s}\")\n",
        "        \n",
        "        #Heron's formulae\n",
        "        self.area_of_triangle = self.s *( ( self.s - self.a) * ( self.s - self.b) * ( self.s - self.c) ) * 0.5\n",
        "        return self.area_of_triangle\n",
        "    \n",
        "    \n",
        "triangle1 = triangle(3)\n",
        "\n",
        "print(\"Area of triangle1 is \" + str(triangle1.print_area_of_triangle()))"
      ],
      "execution_count": 12,
      "outputs": [
        {
          "output_type": "stream",
          "text": [
            "Enter numeric value for side0 - \n",
            "56.23\n",
            "Enter numeric value for side1 - \n",
            "45.85\n",
            "Enter numeric value for side2 - \n",
            "49.8\n",
            "Values initialised for triangle -- > \n",
            "s=0, \n",
            "a=56.23, \n",
            "b=45.85, \n",
            "c=49.8\n",
            "Value of s = 75.94\n",
            "Area of triangle1 is 588647.07779562\n"
          ],
          "name": "stdout"
        }
      ]
    },
    {
      "cell_type": "markdown",
      "metadata": {
        "id": "FWD5KKJPmK6f",
        "colab_type": "text"
      },
      "source": [
        "Q.6 Write a function filter_long_words() that takes a list of words and an integer n and returns the list\n",
        "of words that are longer than n."
      ]
    },
    {
      "cell_type": "code",
      "metadata": {
        "id": "M2MXRwnJmK6h",
        "colab_type": "code",
        "colab": {
          "base_uri": "https://localhost:8080/",
          "height": 289
        },
        "outputId": "4bc3ad2b-4631-48ee-bc92-8ec783539a26"
      },
      "source": [
        "def filter_long_words(lst, n):\n",
        "    if type(lst).__name__ != \"list\":\n",
        "        print(\"Invalid Input, try list like ['Hello','how','are','you','my','friend'] \")\n",
        "        raise Exception(\"Invalid Input. First argument should be a defined function and second argument should be a list\")\n",
        "\n",
        "    filtered_lst = list(filter(lambda x: len(x) > n , lst))\n",
        "    return filtered_lst\n",
        "\n",
        "\n",
        "def getInputs():\n",
        "    print(\"Enter number of words \")\n",
        "    \n",
        "    while True:\n",
        "        str_nbr = input()\n",
        "        if str_nbr.isdigit() :\n",
        "            break\n",
        "        print(\"Invalid Entry, Enter number of words \")\n",
        "    \n",
        "    \n",
        "    \n",
        "    str_input_words =\"\"\n",
        "    for i in range(int(str_nbr)):\n",
        "        print(\"Enter your word \" + str(i+1))\n",
        "        str_input_words = str_input_words +\" \" + input()\n",
        "    \n",
        "    print(\"Enter an integer to filter list of words greater than itself\")\n",
        "    while True:\n",
        "        n = input()\n",
        "        if n.isdigit() :\n",
        "            break\n",
        "        print(\"Invalid Entry, Enter an integer to filter list of words greater than itself\")\n",
        "\n",
        "\n",
        "    return (str_input_words,n)\n",
        "    \n",
        "\n",
        "(input_lst, n) = getInputs()\n",
        "input_lst = input_lst.strip().split(\" \")\n",
        "n = int(n)\n",
        "print(f\"The list of words entered are - {input_lst} and filter length is {n}\")\n",
        "final_list = filter_long_words(input_lst,n)\n",
        "print(f\"The list of words longer than {n} is {final_list}\" )"
      ],
      "execution_count": 24,
      "outputs": [
        {
          "output_type": "stream",
          "text": [
            "Enter number of words \n",
            "5\n",
            "Enter your word 1\n",
            "Sun\n",
            "Enter your word 2\n",
            "moon\n",
            "Enter your word 3\n",
            "earth\n",
            "Enter your word 4\n",
            "jupiter\n",
            "Enter your word 5\n",
            "saturn\n",
            "Enter an integer to filter list of words greater than itself\n",
            "4\n",
            "The list of words entered are - ['Sun', 'moon', 'earth', 'jupiter', 'saturn'] and filter length is 4\n",
            "The list of words longer than 4 is ['earth', 'jupiter', 'saturn']\n"
          ],
          "name": "stdout"
        }
      ]
    },
    {
      "cell_type": "markdown",
      "metadata": {
        "id": "CCnf2Ry6mK6p",
        "colab_type": "text"
      },
      "source": [
        "Q.7 Write a Python program using function concept that maps list of words into a list of integers\n",
        "representing the lengths of the corresponding words.\n",
        "    \n",
        "    Hint: If a list [ ab,cde,erty] is passed on to the python function output should come as [2,3,4]\n",
        "    Here 2,3 and 4 are the lengths of the words in the list."
      ]
    },
    {
      "cell_type": "code",
      "metadata": {
        "id": "Zcjui5VAmK6r",
        "colab_type": "code",
        "colab": {
          "base_uri": "https://localhost:8080/",
          "height": 255
        },
        "outputId": "cb87ecce-4c47-4f68-a71c-0a8a66dcdbc3"
      },
      "source": [
        "def get_length_of_each_word(lst):\n",
        "    if type(lst).__name__ != \"list\":\n",
        "        print(\"Invalid Input, try list like ['Hello','how','are','you','my','friend'] \")\n",
        "        raise Exception(\"Invalid Input. First argument should be a defined function and second argument should be a list\")\n",
        "\n",
        "    lst_equi_len = [len(i) for i in lst]\n",
        "    \n",
        "    return lst_equi_len\n",
        "\n",
        "\n",
        "def getInputs():\n",
        "    print(\"Enter number of words \")\n",
        "    \n",
        "    while True:\n",
        "        str_nbr = input()\n",
        "        if str_nbr.isdigit() :\n",
        "            break\n",
        "        print(\"Invalid Entry, Enter number of words \")\n",
        "    \n",
        "    \n",
        "    \n",
        "    str_input_words =\"\"\n",
        "    for i in range(int(str_nbr)):\n",
        "        print(\"Enter your word \" + str(i+1))\n",
        "        str_input_words = str_input_words +\" \" + input()\n",
        "    \n",
        "    return str_input_words\n",
        "    \n",
        "    \n",
        "input_lst = getInputs().split()\n",
        "\n",
        "print(f\"The list of words entered is - {input_lst}\")\n",
        "\n",
        "print(f\"The list of length of each input words is {get_length_of_each_word(input_lst)}\" )"
      ],
      "execution_count": 27,
      "outputs": [
        {
          "output_type": "stream",
          "text": [
            "Enter number of words \n",
            "5\n",
            "Enter your word 1\n",
            "Krypton\n",
            "Enter your word 2\n",
            "Phobos\n",
            "Enter your word 3\n",
            "Mangal\n",
            "Enter your word 4\n",
            "Kepler-452b\n",
            "Enter your word 5\n",
            "Brahaspati\n",
            "The list of words entered is - ['Krypton', 'Phobos', 'Mangal', 'Kepler-452b', 'Brahaspati']\n",
            "The list of length of each input words is [7, 6, 6, 11, 10]\n"
          ],
          "name": "stdout"
        }
      ]
    },
    {
      "cell_type": "markdown",
      "metadata": {
        "id": "H_8CgsTOmK6x",
        "colab_type": "text"
      },
      "source": [
        "Q.8 Write a Python function which takes a character (i.e. a string of length 1) and returns True if it is\n",
        "a vowel, False otherwise."
      ]
    },
    {
      "cell_type": "code",
      "metadata": {
        "id": "soR2UnTRmK60",
        "colab_type": "code",
        "colab": {
          "base_uri": "https://localhost:8080/",
          "height": 102
        },
        "outputId": "682fb819-7e33-4aed-a081-b8708ac5890d"
      },
      "source": [
        "print(\"Enter a Character \")\n",
        "ch_input = input()\n",
        "if len(ch_input) > 1 :\n",
        "  print(\"Input has more than one Character, COnsidering only first character and ignoring rest of them!\")\n",
        "  ch = ch_input[0].lower()\n",
        "  print(\"Input Character is '\" + ch_input[0] + \"'\")\n",
        "\n",
        "if ch =='a' or ch=='e' or ch=='i' or ch=='o' or ch=='u' :\n",
        "  print(f\"The character {ch_input[0]} is vowel\")\n",
        "else:\n",
        "  print(f\"Character {ch_input[0]} isn't Vowel\")"
      ],
      "execution_count": 34,
      "outputs": [
        {
          "output_type": "stream",
          "text": [
            "Enter a Character \n",
            "jhk\n",
            "Input has more than one Character, COnsidering only first character and ignoring rest of them!\n",
            "Input Character is 'j'\n",
            "Character j isn't Vowel\n"
          ],
          "name": "stdout"
        }
      ]
    },
    {
      "cell_type": "markdown",
      "metadata": {
        "id": "vRC51aXJmK66",
        "colab_type": "text"
      },
      "source": [
        "## Great job!"
      ]
    }
  ]
}